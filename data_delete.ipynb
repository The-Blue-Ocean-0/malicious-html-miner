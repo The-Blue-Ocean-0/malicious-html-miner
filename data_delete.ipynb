{
 "cells": [
  {
   "cell_type": "code",
   "execution_count": 7,
   "metadata": {},
   "outputs": [],
   "source": [
    "import pandas as pd\n",
    "\n",
    "# 제거할 번호 리스트\n",
    "remove_blocks = [74, 139, 164, 196, 225, 309, 367, 368, 369, 370, 371, 372, 373, 374, 375, 376,\n",
    "                 485, 488, 494, 530, 564, 567, 568, 585]\n",
    "\n",
    "# 원본 CSV 불러오기\n",
    "df = pd.read_csv(\"urls_data.csv\", low_memory=False)\n",
    "\n",
    "# 총 행 개수\n",
    "total_len = len(df)\n",
    "\n",
    "# 제거할 인덱스 계산\n",
    "remove_indices = set()\n",
    "for block in remove_blocks:\n",
    "    start_row = block * 1000 + 1    # 예: 74001\n",
    "    end_row = (block + 1) * 1000    # 예: 75000\n",
    "\n",
    "    # pandas 인덱스로 변환 (헤더 1줄 때문에 -2)\n",
    "    start_idx = start_row - 2\n",
    "    end_idx = end_row - 2\n",
    "\n",
    "    # 존재하는 범위까지만 제한\n",
    "    if start_idx >= total_len:\n",
    "        continue\n",
    "    end_idx = min(end_idx, total_len - 1)\n",
    "\n",
    "    remove_indices.update(range(start_idx, end_idx + 1))  # end 포함\n",
    "\n",
    "# 제거\n",
    "df_cleaned = df.drop(index=remove_indices, errors='ignore')\n",
    "\n",
    "# 저장\n",
    "df_cleaned.to_csv(\"urls_data_cleaned.csv\", index=False)\n"
   ]
  }
 ],
 "metadata": {
  "kernelspec": {
   "display_name": "study",
   "language": "python",
   "name": "python3"
  },
  "language_info": {
   "codemirror_mode": {
    "name": "ipython",
    "version": 3
   },
   "file_extension": ".py",
   "mimetype": "text/x-python",
   "name": "python",
   "nbconvert_exporter": "python",
   "pygments_lexer": "ipython3",
   "version": "3.12.8"
  }
 },
 "nbformat": 4,
 "nbformat_minor": 2
}
