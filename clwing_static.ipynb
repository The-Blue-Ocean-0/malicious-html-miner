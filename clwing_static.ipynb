{
 "cells": [
  {
   "cell_type": "code",
   "execution_count": null,
   "metadata": {},
   "outputs": [],
   "source": [
    "!pip install -q bs4"
   ]
  },
  {
   "cell_type": "code",
   "execution_count": 2,
   "metadata": {},
   "outputs": [],
   "source": [
    "import requests\n",
    "from bs4 import BeautifulSoup"
   ]
  },
  {
   "cell_type": "code",
   "execution_count": 3,
   "metadata": {},
   "outputs": [],
   "source": [
    "def extract_static_metadata(url):\n",
    "    headers = {\n",
    "        'User-Agent': 'Mozilla/5.0'\n",
    "    }\n",
    "    \n",
    "    try:\n",
    "        res = requests.get(url, headers=headers, timeout=5)\n",
    "        res.raise_for_status()  # HTTPエラーを捕捉\n",
    "\n",
    "        soup = BeautifulSoup(res.text, 'html.parser')\n",
    "        metadata = {\n",
    "            'title': soup.title.string if soup.title else None,\n",
    "            'description': None,\n",
    "            'keywords': None,\n",
    "            'author': None,\n",
    "            'og:title': None,\n",
    "            'og:description': None,\n",
    "            'og:image': None,\n",
    "            'og:url': None,\n",
    "            'twitter:title': None,\n",
    "            'twitter:description': None,\n",
    "            'twitter:image': None\n",
    "        }\n",
    "\n",
    "        for tag in soup.find_all('meta'):\n",
    "            name = tag.get('name', '').lower()\n",
    "            prop = tag.get('property', '').lower()\n",
    "            content = tag.get('content')\n",
    "\n",
    "            if name in metadata:\n",
    "                metadata[name] = content\n",
    "            elif prop in metadata:\n",
    "                metadata[prop] = content\n",
    "\n",
    "        return metadata\n",
    "\n",
    "    except Exception as e:\n",
    "        print(f\"❌ Error fetching metadata from {url}: {e}\")\n",
    "        return None\n"
   ]
  },
  {
   "cell_type": "code",
   "execution_count": 4,
   "metadata": {},
   "outputs": [
    {
     "name": "stdout",
     "output_type": "stream",
     "text": [
      "{'title': '공공데이터 포털', 'description': '국가에서 보유하고 있는 다양한 데이터를『공공데이터의 제공 및 이용 활성화에 관한 법률(제11956호)』에 따라 개방하여 국민들이 보다 쉽고 용이하게 공유•활용할 수 있도록 공공데이터(Dataset)와 Open API로 제공하는 사이트입니다.', 'keywords': None, 'author': None, 'og:title': None, 'og:description': None, 'og:image': 'http://data.go.kr/images/biz/data-search/bg-nation.png', 'og:url': 'https://www.data.go.kr/index.jsp', 'twitter:title': None, 'twitter:description': None, 'twitter:image': None}\n"
     ]
    }
   ],
   "source": [
    "url = \"https://www.data.go.kr\"\n",
    "meta = extract_static_metadata(url)\n",
    "print(meta)\n"
   ]
  }
 ],
 "metadata": {
  "kernelspec": {
   "display_name": ".venv",
   "language": "python",
   "name": "python3"
  },
  "language_info": {
   "codemirror_mode": {
    "name": "ipython",
    "version": 3
   },
   "file_extension": ".py",
   "mimetype": "text/x-python",
   "name": "python",
   "nbconvert_exporter": "python",
   "pygments_lexer": "ipython3",
   "version": "3.12.6"
  }
 },
 "nbformat": 4,
 "nbformat_minor": 2
}
