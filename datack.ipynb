{
 "cells": [
  {
   "cell_type": "code",
   "execution_count": 2,
   "metadata": {},
   "outputs": [
    {
     "name": "stderr",
     "output_type": "stream",
     "text": [
      "C:\\Users\\kimdong\\AppData\\Local\\Temp\\ipykernel_16068\\427616297.py:4: DtypeWarning: Columns (12) have mixed types. Specify dtype option on import or set low_memory=False.\n",
      "  data = pd.read_csv('urls_data.csv')\n"
     ]
    }
   ],
   "source": [
    "import pandas as pd\n",
    "import numpy as np\n",
    "\n",
    "data = pd.read_csv('urls_data.csv')"
   ]
  },
  {
   "cell_type": "code",
   "execution_count": 4,
   "metadata": {},
   "outputs": [
    {
     "data": {
      "text/plain": [
       "url                    0.000000\n",
       "type                   0.000000\n",
       "original_url           0.000000\n",
       "url_type               0.000000\n",
       "url_len                0.000000\n",
       "pri_domain             0.000000\n",
       "letters_count          0.000000\n",
       "digits_count           0.000000\n",
       "special_chars_count    0.000000\n",
       "shortened              0.000000\n",
       "is_domain_in_url       0.000000\n",
       "secure_http            0.000000\n",
       "have_ip                0.000000\n",
       "url_region             0.000000\n",
       "root_domain            0.000231\n",
       "dtype: float64"
      ]
     },
     "execution_count": 4,
     "metadata": {},
     "output_type": "execute_result"
    }
   ],
   "source": [
    "data.isna().mean()"
   ]
  },
  {
   "cell_type": "code",
   "execution_count": 5,
   "metadata": {},
   "outputs": [
    {
     "name": "stdout",
     "output_type": "stream",
     "text": [
      "<class 'pandas.core.frame.DataFrame'>\n",
      "RangeIndex: 641125 entries, 0 to 641124\n",
      "Data columns (total 15 columns):\n",
      " #   Column               Non-Null Count   Dtype \n",
      "---  ------               --------------   ----- \n",
      " 0   url                  641125 non-null  object\n",
      " 1   type                 641125 non-null  object\n",
      " 2   original_url         641125 non-null  object\n",
      " 3   url_type             641125 non-null  int64 \n",
      " 4   url_len              641125 non-null  int64 \n",
      " 5   pri_domain           641125 non-null  object\n",
      " 6   letters_count        641125 non-null  int64 \n",
      " 7   digits_count         641125 non-null  int64 \n",
      " 8   special_chars_count  641125 non-null  int64 \n",
      " 9   shortened            641125 non-null  int64 \n",
      " 10  is_domain_in_url     641125 non-null  int64 \n",
      " 11  secure_http          641125 non-null  int64 \n",
      " 12  have_ip              641125 non-null  object\n",
      " 13  url_region           641125 non-null  object\n",
      " 14  root_domain          640977 non-null  object\n",
      "dtypes: int64(8), object(7)\n",
      "memory usage: 73.4+ MB\n"
     ]
    }
   ],
   "source": [
    "data.info()"
   ]
  },
  {
   "cell_type": "code",
   "execution_count": null,
   "metadata": {},
   "outputs": [],
   "source": []
  }
 ],
 "metadata": {
  "kernelspec": {
   "display_name": "study",
   "language": "python",
   "name": "python3"
  },
  "language_info": {
   "codemirror_mode": {
    "name": "ipython",
    "version": 3
   },
   "file_extension": ".py",
   "mimetype": "text/x-python",
   "name": "python",
   "nbconvert_exporter": "python",
   "pygments_lexer": "ipython3",
   "version": "3.12.8"
  }
 },
 "nbformat": 4,
 "nbformat_minor": 2
}
