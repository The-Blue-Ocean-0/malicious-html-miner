{
 "cells": [
  {
   "cell_type": "code",
   "execution_count": 1,
   "id": "3a58b4a4",
   "metadata": {},
   "outputs": [
    {
     "name": "stdout",
     "output_type": "stream",
     "text": [
      "⚠️ Skipped missing file: batch_74.csv\n",
      "⚠️ Skipped missing file: batch_139.csv\n",
      "⚠️ Skipped missing file: batch_164.csv\n",
      "⚠️ Skipped missing file: batch_196.csv\n",
      "⚠️ Skipped missing file: batch_225.csv\n",
      "⚠️ Skipped missing file: batch_309.csv\n",
      "⚠️ Skipped missing file: batch_367.csv\n",
      "⚠️ Skipped missing file: batch_368.csv\n",
      "⚠️ Skipped missing file: batch_369.csv\n",
      "⚠️ Skipped missing file: batch_370.csv\n",
      "⚠️ Skipped missing file: batch_371.csv\n",
      "⚠️ Skipped missing file: batch_372.csv\n",
      "⚠️ Skipped missing file: batch_373.csv\n",
      "⚠️ Skipped missing file: batch_374.csv\n",
      "⚠️ Skipped missing file: batch_375.csv\n",
      "⚠️ Skipped missing file: batch_376.csv\n",
      "⚠️ Skipped missing file: batch_485.csv\n",
      "⚠️ Skipped missing file: batch_488.csv\n",
      "⚠️ Skipped missing file: batch_494.csv\n",
      "⚠️ Skipped missing file: batch_530.csv\n",
      "⚠️ Skipped missing file: batch_564.csv\n",
      "⚠️ Skipped missing file: batch_567.csv\n",
      "⚠️ Skipped missing file: batch_568.csv\n",
      "⚠️ Skipped missing file: batch_585.csv\n",
      "✅ 結合完了: merged_batches.csv\n"
     ]
    }
   ],
   "source": [
    "import pandas as pd\n",
    "import os\n",
    "\n",
    "# フォルダとファイル番号の設定\n",
    "batch_folder = 'data/results/batch_results'  # ファイルが存在するパス（適宜変更）\n",
    "output_file = 'merged_batches.csv'\n",
    "last_batch = 642\n",
    "\n",
    "# 保存先がない場合、現在のディレクトリにあると仮定\n",
    "merged_df = pd.DataFrame()\n",
    "\n",
    "for batch_num in range(1, last_batch + 1):\n",
    "    file_name = f'batch_{batch_num}.csv'\n",
    "    file_path = os.path.join(batch_folder, file_name)\n",
    "    \n",
    "    if os.path.exists(file_path):\n",
    "        df = pd.read_csv(file_path)\n",
    "        merged_df = pd.concat([merged_df, df], ignore_index=True)\n",
    "    else:\n",
    "        print(f\"⚠️ Skipped missing file: {file_name}\")\n",
    "\n",
    "# 出力\n",
    "merged_df.to_csv(output_file, index=False)\n",
    "print(f\"✅ 結合完了: {output_file}\")\n"
   ]
  },
  {
   "cell_type": "code",
   "execution_count": 5,
   "id": "a79b2da5",
   "metadata": {},
   "outputs": [
    {
     "data": {
      "application/vnd.microsoft.datawrangler.viewer.v0+json": {
       "columns": [
        {
         "name": "index",
         "rawType": "int64",
         "type": "integer"
        },
        {
         "name": "original_url",
         "rawType": "object",
         "type": "string"
        },
        {
         "name": "final_url",
         "rawType": "object",
         "type": "string"
        },
        {
         "name": "redirect_chain",
         "rawType": "object",
         "type": "unknown"
        },
        {
         "name": "redirect_count",
         "rawType": "int64",
         "type": "integer"
        },
        {
         "name": "head_elements",
         "rawType": "object",
         "type": "unknown"
        },
        {
         "name": "timeout",
         "rawType": "bool",
         "type": "boolean"
        },
        {
         "name": "has_meta_refresh",
         "rawType": "bool",
         "type": "boolean"
        },
        {
         "name": "meta_refresh_url",
         "rawType": "object",
         "type": "unknown"
        },
        {
         "name": "duration_sec",
         "rawType": "float64",
         "type": "float"
        }
       ],
       "conversionMethod": "pd.DataFrame",
       "ref": "b9e26259-b073-478f-8561-5e6b830b034d",
       "rows": [
        [
         "0",
         "http://br-icloud.com.br",
         "http://br-icloud.com.br/",
         null,
         "0",
         null,
         "False",
         "False",
         null,
         "4.55"
        ],
        [
         "1",
         "http://mp3raid.com/music/krizz_kaliko.html",
         "http://mp3raid.com/music/krizz_kaliko.html",
         null,
         "0",
         null,
         "False",
         "False",
         null,
         "2.78"
        ],
        [
         "2",
         "http://bopsecrets.org/rexroth/cr/1.htm",
         "https://bopsecrets.org/rexroth/cr/1.htm",
         "[{\"url\": \"http://bopsecrets.org/rexroth/cr/1.htm\", \"status\": 301, \"location\": \"https://bopsecrets.org/rexroth/cr/1.htm\"}]",
         "1",
         "[{'tag': 'meta', 'attributes': {'http-equiv': 'content-type', 'content': 'text/html; charset=utf-8'}, 'text': ''}, {'tag': 'title', 'attributes': {}, 'text': 'Classics Revisited (1)'}, {'tag': 'meta', 'attributes': {'name': 'author', 'content': 'Kenneth Rexroth'}, 'text': ''}, {'tag': 'meta', 'attributes': {'name': 'keywords', 'content': ''}, 'text': ''}, {'tag': 'meta', 'attributes': {'name': 'description', 'content': ''}, 'text': ''}, {'tag': 'meta', 'attributes': {'http-equiv': 'Content-Type', 'content': 'text/html; charset=utf-8'}, 'text': ''}, {'tag': 'meta', 'attributes': {'http-equiv': 'Content-Language', 'content': 'en-us'}, 'text': ''}, {'tag': 'meta', 'attributes': {'name': 'viewport', 'content': 'width=device-width, initial-scale=1.0'}, 'text': ''}, {'tag': 'link', 'attributes': {'rel': 'stylesheet', 'href': '../../css/rexroth.css'}, 'text': ''}]",
         "False",
         "False",
         null,
         "6.41"
        ],
        [
         "3",
         "http://www.garage-pirenne.be/index.php?option=com_content&view=article&id=70&vsig70_0=15",
         "http://www.garage-pirenne.be/index.php?option=com_content&view=article&id=70&vsig70_0=15",
         null,
         "0",
         null,
         "False",
         "False",
         null,
         "4.71"
        ],
        [
         "4",
         "http://adventure-nicaragua.net/index.php?option=com_mailto&tmpl=component&link=aHR0cDovL2FkdmVudHVyZS1uaWNhcmFndWEubmV0L2luZGV4LnBocD9vcHRpb249Y29tX2NvbnRlbnQmdmlldz1hcnRpY2xlJmlkPTQ3OmFib3V0JmNhdGlkPTM2OmRlbW8tYXJ0aWNsZXMmSXRlbWlkPTU0",
         "http://adventure-nicaragua.net/index.php?option=com_mailto&tmpl=component&link=aHR0cDovL2FkdmVudHVyZS1uaWNhcmFndWEubmV0L2luZGV4LnBocD9vcHRpb249Y29tX2NvbnRlbnQmdmlldz1hcnRpY2xlJmlkPTQ3OmFib3V0JmNhdGlkPTM2OmRlbW8tYXJ0aWNsZXMmSXRlbWlkPTU0",
         null,
         "0",
         null,
         "False",
         "True",
         "http://adventure-nicaragua.net/index.php?option=com_mailto&tmpl=component&link=aHR0cDovL2FkdmVudHVyZS1uaWNhcmFndWEubmV0L2luZGV4LnBocD9vcHRpb249Y29tX2NvbnRlbnQmdmlldz1hcnRpY2xlJmlkPTQ3OmFib3V0JmNhdGlkPTM2OmRlbW8tYXJ0aWNsZXMmSXRlbWlkPTU0&fp=-5",
         "4.51"
        ]
       ],
       "shape": {
        "columns": 9,
        "rows": 5
       }
      },
      "text/html": [
       "<div>\n",
       "<style scoped>\n",
       "    .dataframe tbody tr th:only-of-type {\n",
       "        vertical-align: middle;\n",
       "    }\n",
       "\n",
       "    .dataframe tbody tr th {\n",
       "        vertical-align: top;\n",
       "    }\n",
       "\n",
       "    .dataframe thead th {\n",
       "        text-align: right;\n",
       "    }\n",
       "</style>\n",
       "<table border=\"1\" class=\"dataframe\">\n",
       "  <thead>\n",
       "    <tr style=\"text-align: right;\">\n",
       "      <th></th>\n",
       "      <th>original_url</th>\n",
       "      <th>final_url</th>\n",
       "      <th>redirect_chain</th>\n",
       "      <th>redirect_count</th>\n",
       "      <th>head_elements</th>\n",
       "      <th>timeout</th>\n",
       "      <th>has_meta_refresh</th>\n",
       "      <th>meta_refresh_url</th>\n",
       "      <th>duration_sec</th>\n",
       "    </tr>\n",
       "  </thead>\n",
       "  <tbody>\n",
       "    <tr>\n",
       "      <th>0</th>\n",
       "      <td>http://br-icloud.com.br</td>\n",
       "      <td>http://br-icloud.com.br/</td>\n",
       "      <td>NaN</td>\n",
       "      <td>0</td>\n",
       "      <td>NaN</td>\n",
       "      <td>False</td>\n",
       "      <td>False</td>\n",
       "      <td>NaN</td>\n",
       "      <td>4.55</td>\n",
       "    </tr>\n",
       "    <tr>\n",
       "      <th>1</th>\n",
       "      <td>http://mp3raid.com/music/krizz_kaliko.html</td>\n",
       "      <td>http://mp3raid.com/music/krizz_kaliko.html</td>\n",
       "      <td>NaN</td>\n",
       "      <td>0</td>\n",
       "      <td>NaN</td>\n",
       "      <td>False</td>\n",
       "      <td>False</td>\n",
       "      <td>NaN</td>\n",
       "      <td>2.78</td>\n",
       "    </tr>\n",
       "    <tr>\n",
       "      <th>2</th>\n",
       "      <td>http://bopsecrets.org/rexroth/cr/1.htm</td>\n",
       "      <td>https://bopsecrets.org/rexroth/cr/1.htm</td>\n",
       "      <td>[{\"url\": \"http://bopsecrets.org/rexroth/cr/1.h...</td>\n",
       "      <td>1</td>\n",
       "      <td>[{'tag': 'meta', 'attributes': {'http-equiv': ...</td>\n",
       "      <td>False</td>\n",
       "      <td>False</td>\n",
       "      <td>NaN</td>\n",
       "      <td>6.41</td>\n",
       "    </tr>\n",
       "    <tr>\n",
       "      <th>3</th>\n",
       "      <td>http://www.garage-pirenne.be/index.php?option=...</td>\n",
       "      <td>http://www.garage-pirenne.be/index.php?option=...</td>\n",
       "      <td>NaN</td>\n",
       "      <td>0</td>\n",
       "      <td>NaN</td>\n",
       "      <td>False</td>\n",
       "      <td>False</td>\n",
       "      <td>NaN</td>\n",
       "      <td>4.71</td>\n",
       "    </tr>\n",
       "    <tr>\n",
       "      <th>4</th>\n",
       "      <td>http://adventure-nicaragua.net/index.php?optio...</td>\n",
       "      <td>http://adventure-nicaragua.net/index.php?optio...</td>\n",
       "      <td>NaN</td>\n",
       "      <td>0</td>\n",
       "      <td>NaN</td>\n",
       "      <td>False</td>\n",
       "      <td>True</td>\n",
       "      <td>http://adventure-nicaragua.net/index.php?optio...</td>\n",
       "      <td>4.51</td>\n",
       "    </tr>\n",
       "  </tbody>\n",
       "</table>\n",
       "</div>"
      ],
      "text/plain": [
       "                                        original_url  \\\n",
       "0                            http://br-icloud.com.br   \n",
       "1         http://mp3raid.com/music/krizz_kaliko.html   \n",
       "2             http://bopsecrets.org/rexroth/cr/1.htm   \n",
       "3  http://www.garage-pirenne.be/index.php?option=...   \n",
       "4  http://adventure-nicaragua.net/index.php?optio...   \n",
       "\n",
       "                                           final_url  \\\n",
       "0                           http://br-icloud.com.br/   \n",
       "1         http://mp3raid.com/music/krizz_kaliko.html   \n",
       "2            https://bopsecrets.org/rexroth/cr/1.htm   \n",
       "3  http://www.garage-pirenne.be/index.php?option=...   \n",
       "4  http://adventure-nicaragua.net/index.php?optio...   \n",
       "\n",
       "                                      redirect_chain  redirect_count  \\\n",
       "0                                                NaN               0   \n",
       "1                                                NaN               0   \n",
       "2  [{\"url\": \"http://bopsecrets.org/rexroth/cr/1.h...               1   \n",
       "3                                                NaN               0   \n",
       "4                                                NaN               0   \n",
       "\n",
       "                                       head_elements  timeout  \\\n",
       "0                                                NaN    False   \n",
       "1                                                NaN    False   \n",
       "2  [{'tag': 'meta', 'attributes': {'http-equiv': ...    False   \n",
       "3                                                NaN    False   \n",
       "4                                                NaN    False   \n",
       "\n",
       "   has_meta_refresh                                   meta_refresh_url  \\\n",
       "0             False                                                NaN   \n",
       "1             False                                                NaN   \n",
       "2             False                                                NaN   \n",
       "3             False                                                NaN   \n",
       "4              True  http://adventure-nicaragua.net/index.php?optio...   \n",
       "\n",
       "   duration_sec  \n",
       "0          4.55  \n",
       "1          2.78  \n",
       "2          6.41  \n",
       "3          4.71  \n",
       "4          4.51  "
      ]
     },
     "execution_count": 5,
     "metadata": {},
     "output_type": "execute_result"
    }
   ],
   "source": [
    "# df = pd.read_csv('merged_batches.csv', nrows=10_000)\n",
    "df = pd.read_csv('merged_batches.csv')\n",
    "df.head()"
   ]
  },
  {
   "cell_type": "code",
   "execution_count": 6,
   "id": "26de5552",
   "metadata": {},
   "outputs": [
    {
     "name": "stdout",
     "output_type": "stream",
     "text": [
      "<class 'pandas.core.frame.DataFrame'>\n",
      "RangeIndex: 617125 entries, 0 to 617124\n",
      "Data columns (total 9 columns):\n",
      " #   Column            Non-Null Count   Dtype  \n",
      "---  ------            --------------   -----  \n",
      " 0   original_url      617125 non-null  object \n",
      " 1   final_url         407537 non-null  object \n",
      " 2   redirect_chain    317022 non-null  object \n",
      " 3   redirect_count    617125 non-null  int64  \n",
      " 4   head_elements     371357 non-null  object \n",
      " 5   timeout           617125 non-null  bool   \n",
      " 6   has_meta_refresh  617125 non-null  bool   \n",
      " 7   meta_refresh_url  7639 non-null    object \n",
      " 8   duration_sec      617125 non-null  float64\n",
      "dtypes: bool(2), float64(1), int64(1), object(5)\n",
      "memory usage: 34.1+ MB\n"
     ]
    }
   ],
   "source": [
    "df.info()"
   ]
  },
  {
   "cell_type": "code",
   "execution_count": 7,
   "id": "b7b7c43d",
   "metadata": {},
   "outputs": [
    {
     "data": {
      "application/vnd.microsoft.datawrangler.viewer.v0+json": {
       "columns": [
        {
         "name": "index",
         "rawType": "int64",
         "type": "integer"
        },
        {
         "name": "original_url",
         "rawType": "object",
         "type": "string"
        },
        {
         "name": "final_url",
         "rawType": "object",
         "type": "string"
        },
        {
         "name": "redirect_chain",
         "rawType": "object",
         "type": "unknown"
        },
        {
         "name": "redirect_count",
         "rawType": "int64",
         "type": "integer"
        },
        {
         "name": "head_elements",
         "rawType": "object",
         "type": "string"
        },
        {
         "name": "timeout",
         "rawType": "bool",
         "type": "boolean"
        },
        {
         "name": "has_meta_refresh",
         "rawType": "bool",
         "type": "boolean"
        },
        {
         "name": "meta_refresh_url",
         "rawType": "object",
         "type": "unknown"
        },
        {
         "name": "duration_sec",
         "rawType": "float64",
         "type": "float"
        }
       ],
       "conversionMethod": "pd.DataFrame",
       "ref": "4936ed04-5553-4e90-931c-c894cc1cae36",
       "rows": [
        [
         "617120",
         "http://xbox360.ign.com/objects/850/850402.html",
         "https://www.ign.com/games/dead-space",
         "[{\"url\": \"http://xbox360.ign.com/objects/850/850402.html\", \"status\": 301, \"location\": \"http://www.ign.com/games/dead-space/xbox-360-850402\"}, {\"url\": \"http://www.ign.com/games/dead-space/xbox-360-850402\", \"status\": 301, \"location\": \"https://www.ign.com/games/dead-space/xbox-360-850402\"}, {\"url\": \"https://www.ign.com/games/dead-space/xbox-360-850402\", \"status\": 301, \"location\": \"/games/dead-space\"}, {\"url\": \"https://cdn.ziffstatic.com/jst/zdconsent.js\", \"status\": 302, \"location\": \"https://cdn.ziffstatic.com/jst/zdconsent_optin.js\"}]",
         "4",
         "[{'tag': 'link', 'attributes': {'tag': 'link', 'rel': 'preconnect', 'href': 'https://aax.amazon-adsystem.com'}, 'text': ''}, {'tag': 'meta', 'attributes': {'charset': 'utf-8'}, 'text': ''}, {'tag': 'title', 'attributes': {}, 'text': 'Dead Space - IGN'}, {'tag': 'meta', 'attributes': {'name': 'viewport', 'content': 'width=device-width, initial-scale=1.0, viewport-fit=cover'}, 'text': ''}, {'tag': 'meta', 'attributes': {'name': 'theme-color', 'content': '#BF1313'}, 'text': ''}, {'tag': 'meta', 'attributes': {'name': 'description', 'content': 'Release Date, Trailers, News, Reviews, Guides, Gameplay and more for Dead Space'}, 'text': ''}, {'tag': 'meta', 'attributes': {'name': 'robots', 'content': 'noodp, noydir, max-image-preview:large'}, 'text': ''}, {'tag': 'meta', 'attributes': {'property': 'og:url', 'content': 'https://www.ign.com/games/dead-space'}, 'text': ''}, {'tag': 'meta', 'attributes': {'property': 'og:title', 'content': 'Dead Space - IGN'}, 'text': ''}, {'tag': 'meta', 'attributes': {'property': 'og:type', 'content': 'Game'}, 'text': ''}, {'tag': 'meta', 'attributes': {'name': 'cXenseParse:keywords', 'content': 'Dead Space,PlayStation 5,Xbox Series X|S,PC'}, 'text': ''}, {'tag': 'meta', 'attributes': {'name': 'section', 'content': 'object'}, 'text': ''}, {'tag': 'meta', 'attributes': {'property': 'og:image', 'content': 'https://assets-prd.ignimgs.com/2022/10/12/dead-space-2023-button-3-1665603079064.jpg'}, 'text': ''}, {'tag': 'meta', 'attributes': {'name': 'thumbnail', 'content': 'https://assets-prd.ignimgs.com/2022/10/12/dead-space-2023-button-3-1665603079064.jpg'}, 'text': ''}, {'tag': 'meta', 'attributes': {'property': 'og:description', 'content': 'Release Date, Trailers, News, Reviews, Guides, Gameplay and more for Dead Space'}, 'text': ''}, {'tag': 'link', 'attributes': {'rel': 'canonical', 'href': 'https://www.ign.com/games/dead-space'}, 'text': ''}, {'tag': 'link', 'attributes': {'rel': 'alternate', 'hreflang': 'x-default', 'href': 'https://www.ign.com/games/dead-space'}, 'text': ''}, {'tag': 'link', 'attributes': {'rel': 'alternate', 'hreflang': 'en', 'href': 'https://www.ign.com/games/dead-space'}, 'text': ''}, {'tag': 'meta', 'attributes': {'property': 'al:ios:url', 'content': 'ign://ign.com/games/dead-space'}, 'text': ''}, {'tag': 'meta', 'attributes': {'property': 'al:ios:app_store_id', 'content': '284819997'}, 'text': ''}, {'tag': 'meta', 'attributes': {'property': 'al:ios:app_name', 'content': 'IGN: Video Game News, Reviews, Guides'}, 'text': ''}, {'tag': 'meta', 'attributes': {'property': 'al:android:url', 'content': 'ign://www.ign.com/games/dead-space'}, 'text': ''}, {'tag': 'meta', 'attributes': {'property': 'al:android:app_name', 'content': 'IGN'}, 'text': ''}, {'tag': 'meta', 'attributes': {'property': 'al:android:package', 'content': 'com.mobile.ign'}, 'text': ''}, {'tag': 'meta', 'attributes': {'property': 'al:web:url', 'content': 'https://www.ign.com/games/dead-space'}, 'text': ''}, {'tag': 'meta', 'attributes': {'name': 'twitter:app:name:iphone', 'content': 'IGN: Video Game News, Reviews, Guides'}, 'text': ''}, {'tag': 'meta', 'attributes': {'name': 'twitter:app:id:iphone', 'content': '284819997'}, 'text': ''}, {'tag': 'meta', 'attributes': {'name': 'twitter:app:url:iphone', 'content': 'ign://www.ign.com/games/dead-space'}, 'text': ''}, {'tag': 'meta', 'attributes': {'name': 'twitter:app:name:ipad', 'content': 'IGN: Video Game News, Reviews, Guides'}, 'text': ''}, {'tag': 'meta', 'attributes': {'name': 'twitter:app:id:ipad', 'content': '284819997'}, 'text': ''}, {'tag': 'meta', 'attributes': {'name': 'twitter:app:url:ipad', 'content': 'ign://www.ign.com/games/dead-space'}, 'text': ''}, {'tag': 'meta', 'attributes': {'name': 'twitter:app:name:googleplay', 'content': 'IGN'}, 'text': ''}, {'tag': 'meta', 'attributes': {'name': 'twitter:app:id:googleplay', 'content': 'com.mobile.ign'}, 'text': ''}, {'tag': 'meta', 'attributes': {'name': 'twitter:app:url:googleplay', 'content': 'ign://www.ign.com/games/dead-space'}, 'text': ''}, {'tag': 'meta', 'attributes': {'name': 'twitter:card', 'content': 'summary'}, 'text': ''}, {'tag': 'meta', 'attributes': {'name': 'twitter:site', 'content': '@IGN'}, 'text': ''}, {'tag': 'meta', 'attributes': {'name': 'twitter:imageUrl', 'content': 'https://assets-prd.ignimgs.com/2022/10/12/dead-space-2023-button-3-1665603079064.jpg'}, 'text': ''}, {'tag': 'meta', 'attributes': {'name': 'facebook-domain-verification', 'content': '960w7qsbsscw9stu2hxr2xfaes6cvc'}, 'text': ''}, {'tag': 'link', 'attributes': {'rel': 'preload', 'as': 'script', 'href': 'https://cdn.ziffstatic.com/jst/zdconsent.js'}, 'text': ''}, {'tag': 'link', 'attributes': {'rel': 'preload', 'as': 'script', 'href': 'https://cdn.ziffstatic.com/pg/ign.js'}, 'text': ''}, {'tag': 'link', 'attributes': {'rel': 'preload', 'as': 'script', 'href': 'https://cdn.ziffstatic.com/pg/ign.prebid.js'}, 'text': ''}, {'tag': 'link', 'attributes': {'rel': 'preload', 'as': 'script', 'href': 'https://securepubads.g.doubleclick.net/tag/js/gpt.js?network-code=5691'}, 'text': ''}, {'tag': 'link', 'attributes': {'rel': 'stylesheet', 'href': 'https://cdn.ziffstatic.com/pg/ign.css'}, 'text': ''}, {'tag': 'link', 'attributes': {'rel': 'preload', 'as': 'image', 'imagesrcset': 'https://assets-prd.ignimgs.com/2022/10/12/dead-space-2023-button-3-1665603079064.jpg?width=300&crop=1%3A1%2Csmart&auto=webp 1x, https://assets-prd.ignimgs.com/2022/10/12/dead-space-2023-button-3-1665603079064.jpg?width=300&crop=1%3A1%2Csmart&auto=webp&dpr=2 2x', 'class': 'jsx-2920405963'}, 'text': ''}, {'tag': 'link', 'attributes': {'rel': 'preload', 'as': 'script', 'href': 'https://imasdk.googleapis.com/js/sdkloader/ima3.js'}, 'text': ''}, {'tag': 'meta', 'attributes': {'name': 'next-head-count', 'content': '48'}, 'text': ''}, {'tag': 'link', 'attributes': {'rel': 'shortcut icon', 'type': 'image/x-icon', 'href': 'https://kraken.ignimgs.com/favicon.ico'}, 'text': ''}, {'tag': 'meta', 'attributes': {'http-equiv': 'Content-Type', 'content': 'text/html; charset=utf-8'}, 'text': ''}, {'tag': 'meta', 'attributes': {'name': 'copyright', 'content': 'IGN Entertainment, Inc.'}, 'text': ''}, {'tag': 'meta', 'attributes': {'name': 'referrer', 'content': 'always'}, 'text': ''}, {'tag': 'meta', 'attributes': {'name': 'cpid', 'content': '5a8bca0b2d985966302b4671c3a001ee'}, 'text': ''}, {'tag': 'meta', 'attributes': {'property': 'og:site_name', 'content': 'IGN'}, 'text': ''}, {'tag': 'meta', 'attributes': {'property': 'fb:app_id', 'content': '115982828429116'}, 'text': ''}, {'tag': 'meta', 'attributes': {'property': 'fb:pages', 'content': '59685491632'}, 'text': ''}, {'tag': 'link', 'attributes': {'rel': 'preload', 'href': 'https://apps.ign.com/video-player/fonts/Inter.var-subset.woff2', 'as': 'font', 'type': 'font/woff2', 'crossorigin': 'anonymous'}, 'text': ''}, {'tag': 'link', 'attributes': {'rel': 'preload', 'href': 'https://kraken.ignimgs.com/_next/static/css/21c8edd496678c5d.css', 'as': 'style'}, 'text': ''}, {'tag': 'link', 'attributes': {'rel': 'stylesheet', 'href': 'https://kraken.ignimgs.com/_next/static/css/21c8edd496678c5d.css', 'data-n-g': ''}, 'text': ''}, {'tag': 'noscript', 'attributes': {'data-n-css': ''}, 'text': ''}, {'tag': 'meta', 'attributes': {'http-equiv': 'origin-trial', 'content': 'AlK2UR5SkAlj8jjdEc9p3F3xuFYlF6LYjAML3EOqw1g26eCwWPjdmecULvBH5MVPoqKYrOfPhYVL71xAXI1IBQoAAAB8eyJvcmlnaW4iOiJodHRwczovL2RvdWJsZWNsaWNrLm5ldDo0NDMiLCJmZWF0dXJlIjoiV2ViVmlld1hSZXF1ZXN0ZWRXaXRoRGVwcmVjYXRpb24iLCJleHBpcnkiOjE3NTgwNjcxOTksImlzU3ViZG9tYWluIjp0cnVlfQ=='}, 'text': ''}, {'tag': 'meta', 'attributes': {'http-equiv': 'origin-trial', 'content': 'Amm8/NmvvQfhwCib6I7ZsmUxiSCfOxWxHayJwyU1r3gRIItzr7bNQid6O8ZYaE1GSQTa69WwhPC9flq/oYkRBwsAAACCeyJvcmlnaW4iOiJodHRwczovL2dvb2dsZXN5bmRpY2F0aW9uLmNvbTo0NDMiLCJmZWF0dXJlIjoiV2ViVmlld1hSZXF1ZXN0ZWRXaXRoRGVwcmVjYXRpb24iLCJleHBpcnkiOjE3NTgwNjcxOTksImlzU3ViZG9tYWluIjp0cnVlfQ=='}, 'text': ''}, {'tag': 'meta', 'attributes': {'http-equiv': 'origin-trial', 'content': 'A9wSqI5i0iwGdf6L1CERNdmsTPgVu44ewj8QxTBYgsv1LCPUVF7YmWOvTappqB1139jAymxUW/RO8zmMqo4zlAAAAACNeyJvcmlnaW4iOiJodHRwczovL2RvdWJsZWNsaWNrLm5ldDo0NDMiLCJmZWF0dXJlIjoiRmxlZGdlQmlkZGluZ0FuZEF1Y3Rpb25TZXJ2ZXIiLCJleHBpcnkiOjE3MzY4MTI4MDAsImlzU3ViZG9tYWluIjp0cnVlLCJpc1RoaXJkUGFydHkiOnRydWV9'}, 'text': ''}, {'tag': 'meta', 'attributes': {'http-equiv': 'origin-trial', 'content': 'A+d7vJfYtay4OUbdtRPZA3y7bKQLsxaMEPmxgfhBGqKXNrdkCQeJlUwqa6EBbSfjwFtJWTrWIioXeMW+y8bWAgQAAACTeyJvcmlnaW4iOiJodHRwczovL2dvb2dsZXN5bmRpY2F0aW9uLmNvbTo0NDMiLCJmZWF0dXJlIjoiRmxlZGdlQmlkZGluZ0FuZEF1Y3Rpb25TZXJ2ZXIiLCJleHBpcnkiOjE3MzY4MTI4MDAsImlzU3ViZG9tYWluIjp0cnVlLCJpc1RoaXJkUGFydHkiOnRydWV9'}, 'text': ''}, {'tag': 'link', 'attributes': {'href': 'https://securepubads.g.doubleclick.net/pagead/managed/dict/m202504240101/gpt', 'rel': 'compression-dictionary'}, 'text': ''}, {'tag': 'link', 'attributes': {'as': 'script', 'rel': 'prefetch', 'href': 'https://kraken.ignimgs.com/_next/static/chunks/127-cc91c84ab6c82517.js'}, 'text': ''}, {'tag': 'link', 'attributes': {'as': 'script', 'rel': 'prefetch', 'href': 'https://kraken.ignimgs.com/_next/static/chunks/8551-e1a30c2d1d265fe6.js'}, 'text': ''}, {'tag': 'link', 'attributes': {'as': 'script', 'rel': 'prefetch', 'href': 'https://kraken.ignimgs.com/_next/static/chunks/pages/homepage-bc484db88d90e9d1.js'}, 'text': ''}, {'tag': 'link', 'attributes': {'as': 'script', 'rel': 'prefetch', 'href': 'https://kraken.ignimgs.com/_next/static/chunks/919-00d982f7ab69cbf5.js'}, 'text': ''}, {'tag': 'link', 'attributes': {'as': 'script', 'rel': 'prefetch', 'href': 'https://kraken.ignimgs.com/_next/static/chunks/2985-1bf46b54b5707e04.js'}, 'text': ''}, {'tag': 'link', 'attributes': {'as': 'script', 'rel': 'prefetch', 'href': 'https://kraken.ignimgs.com/_next/static/chunks/9437-6611fe468347d49a.js'}, 'text': ''}, {'tag': 'link', 'attributes': {'as': 'script', 'rel': 'prefetch', 'href': 'https://kraken.ignimgs.com/_next/static/chunks/2286-7ac7c172287eccc6.js'}, 'text': ''}, {'tag': 'link', 'attributes': {'as': 'script', 'rel': 'prefetch', 'href': 'https://kraken.ignimgs.com/_next/static/chunks/2382-0a17aba283e2145e.js'}, 'text': ''}, {'tag': 'link', 'attributes': {'as': 'script', 'rel': 'prefetch', 'href': 'https://kraken.ignimgs.com/_next/static/chunks/9382-51d56795c509c110.js'}, 'text': ''}, {'tag': 'link', 'attributes': {'as': 'script', 'rel': 'prefetch', 'href': 'https://kraken.ignimgs.com/_next/static/chunks/2373-b435c10a8c32d16d.js'}, 'text': ''}, {'tag': 'link', 'attributes': {'as': 'script', 'rel': 'prefetch', 'href': 'https://kraken.ignimgs.com/_next/static/chunks/7829-45d6b4be2409f4ad.js'}, 'text': ''}, {'tag': 'link', 'attributes': {'as': 'script', 'rel': 'prefetch', 'href': 'https://kraken.ignimgs.com/_next/static/chunks/1325-e24a0681f46441b5.js'}, 'text': ''}, {'tag': 'link', 'attributes': {'as': 'script', 'rel': 'prefetch', 'href': 'https://kraken.ignimgs.com/_next/static/chunks/pages/articles/show-c05589cd45a1ab0a.js'}, 'text': ''}, {'tag': 'link', 'attributes': {'as': 'script', 'rel': 'prefetch', 'href': 'https://kraken.ignimgs.com/_next/static/chunks/1576-d17aac8bf249c51e.js'}, 'text': ''}, {'tag': 'link', 'attributes': {'as': 'script', 'rel': 'prefetch', 'href': 'https://kraken.ignimgs.com/_next/static/chunks/9886-9eb1bbc4758fa864.js'}, 'text': ''}, {'tag': 'link', 'attributes': {'as': 'script', 'rel': 'prefetch', 'href': 'https://kraken.ignimgs.com/_next/static/chunks/8957-e16f6bcb57d404f1.js'}, 'text': ''}, {'tag': 'link', 'attributes': {'as': 'script', 'rel': 'prefetch', 'href': 'https://kraken.ignimgs.com/_next/static/chunks/pages/ign-plus/show-a89e27a67c5cef2c.js'}, 'text': ''}, {'tag': 'link', 'attributes': {'as': 'script', 'rel': 'prefetch', 'href': 'https://kraken.ignimgs.com/_next/static/chunks/pages/wikis-6344dfd21cfbcf02.js'}, 'text': ''}, {'tag': 'link', 'attributes': {'as': 'script', 'rel': 'prefetch', 'href': 'https://kraken.ignimgs.com/_next/static/chunks/2672-1188074936fa23a4.js'}, 'text': ''}, {'tag': 'link', 'attributes': {'as': 'script', 'rel': 'prefetch', 'href': 'https://kraken.ignimgs.com/_next/static/chunks/2409-b1cb92762bf4362e.js'}, 'text': ''}, {'tag': 'link', 'attributes': {'as': 'script', 'rel': 'prefetch', 'href': 'https://kraken.ignimgs.com/_next/static/chunks/1883-aab3dcc819976bab.js'}, 'text': ''}, {'tag': 'link', 'attributes': {'as': 'script', 'rel': 'prefetch', 'href': 'https://kraken.ignimgs.com/_next/static/chunks/pages/maps-f191f87dcd8e65a2.js'}, 'text': ''}, {'tag': 'link', 'attributes': {'as': 'script', 'rel': 'prefetch', 'href': 'https://kraken.ignimgs.com/_next/static/chunks/pages/playlist/discover-0f3a7ec155cba0dd.js'}, 'text': ''}, {'tag': 'link', 'attributes': {'as': 'script', 'rel': 'prefetch', 'href': 'https://kraken.ignimgs.com/_next/static/chunks/4834-9d74746385174b2c.js'}, 'text': ''}, {'tag': 'link', 'attributes': {'as': 'script', 'rel': 'prefetch', 'href': 'https://kraken.ignimgs.com/_next/static/chunks/pages/rewards-d7a57274d1cb2a25.js'}, 'text': ''}, {'tag': 'link', 'attributes': {'as': 'script', 'rel': 'prefetch', 'href': 'https://kraken.ignimgs.com/_next/static/chunks/9280-b5e683aebc0ff7b4.js'}, 'text': ''}, {'tag': 'link', 'attributes': {'as': 'script', 'rel': 'prefetch', 'href': 'https://kraken.ignimgs.com/_next/static/chunks/pages/objects-656b8840ac11490d.js'}, 'text': ''}, {'tag': 'link', 'attributes': {'as': 'script', 'rel': 'prefetch', 'href': 'https://kraken.ignimgs.com/_next/static/chunks/6347-80fbc1a8d7347679.js'}, 'text': ''}, {'tag': 'link', 'attributes': {'as': 'script', 'rel': 'prefetch', 'href': 'https://kraken.ignimgs.com/_next/static/chunks/pages/wikis/show-4d93a47fb8b94075.js'}, 'text': ''}, {'tag': 'link', 'attributes': {'as': 'script', 'rel': 'prefetch', 'href': 'https://kraken.ignimgs.com/_next/static/chunks/pages/icons-ad2f7f34a08798ad.js'}, 'text': ''}, {'tag': 'link', 'attributes': {'href': 'https://api-2-0.spot.im', 'rel': 'preconnect', 'crossorigin': 'use-credentials'}, 'text': ''}, {'tag': 'link', 'attributes': {'href': 'https://static-cdn.spot.im', 'rel': 'preconnect', 'crossorigin': 'use-credentials'}, 'text': ''}]",
         "False",
         "False",
         null,
         "65.85"
        ],
        [
         "617121",
         "http://games.teamxbox.com/xbox-360/1860/Dead-Space/",
         "http://games.teamxbox.com/xbox-360/1860/Dead-Space/",
         null,
         "0",
         "[{'tag': 'title', 'attributes': {}, 'text': '403 Forbidden'}]",
         "False",
         "False",
         null,
         "2.74"
        ],
        [
         "617122",
         "http://www.gamespot.com/xbox360/action/deadspace/",
         "https://www.gamespot.com/games/dead-space-2008/",
         "[{\"url\": \"http://www.gamespot.com/xbox360/action/deadspace/\", \"status\": 301, \"location\": \"https://www.gamespot.com/xbox360/action/deadspace/\"}, {\"url\": \"https://www.gamespot.com/xbox360/action/deadspace/\", \"status\": 301, \"location\": \"/dead-space-2008/\"}, {\"url\": \"https://www.gamespot.com/dead-space-2008/\", \"status\": 301, \"location\": \"/games/dead-space-2008/\"}]",
         "3",
         "[{'tag': 'meta', 'attributes': {'http-equiv': 'origin-trial', 'content': 'A7vZI3v+Gz7JfuRolKNM4Aff6zaGuT7X0mf3wtoZTnKv6497cVMnhy03KDqX7kBz/q/iidW7srW31oQbBt4VhgoAAACUeyJvcmlnaW4iOiJodHRwczovL3d3dy5nb29nbGUuY29tOjQ0MyIsImZlYXR1cmUiOiJEaXNhYmxlVGhpcmRQYXJ0eVN0b3JhZ2VQYXJ0aXRpb25pbmczIiwiZXhwaXJ5IjoxNzU3OTgwODAwLCJpc1N1YmRvbWFpbiI6dHJ1ZSwiaXNUaGlyZFBhcnR5Ijp0cnVlfQ=='}, 'text': ''}, {'tag': 'title', 'attributes': {}, 'text': 'Dead Space (2008) - GameSpot'}, {'tag': 'meta', 'attributes': {'name': 'description', 'content': \"Dead Space is a survival-horror game in which players take on the role of Engineer Isaac Clarke who is sent to repair the mining ship's communication array which has been mysteriously cut off. Once on...\"}, 'text': ''}, {'tag': 'meta', 'attributes': {'charset': 'utf-8'}, 'text': ''}, {'tag': 'meta', 'attributes': {'http-equiv': 'X-UA-Compatible', 'content': 'IE=edge,chrome=1'}, 'text': ''}, {'tag': 'meta', 'attributes': {'name': 'application-name', 'content': 'GameSpot'}, 'text': ''}, {'tag': 'meta', 'attributes': {'name': 'msapplication-TileColor', 'content': '#26292B'}, 'text': ''}, {'tag': 'meta', 'attributes': {'name': 'msapplication-TileImage', 'content': 'https://www.gamespot.com/a/bundles/gamespotsite/images/win8pin.png'}, 'text': ''}, {'tag': 'meta', 'attributes': {'name': 'userAuthState', 'content': 'noUser'}, 'text': ''}, {'tag': 'meta', 'attributes': {'id': 'cdnHost', 'itemprop': 'cdnHost', 'content': 'www.gamespot.com/a'}, 'text': ''}, {'tag': 'meta', 'attributes': {'name': 'viewport', 'content': 'width=device-width, initial-scale=1.0'}, 'text': ''}, {'tag': 'meta', 'attributes': {'name': 'twitter:card', 'content': 'product'}, 'text': ''}, {'tag': 'meta', 'attributes': {'name': 'twitter:site', 'content': '@GameSpot'}, 'text': ''}, {'tag': 'meta', 'attributes': {'name': 'twitter:domain', 'content': 'gamespot.com'}, 'text': ''}, {'tag': 'meta', 'attributes': {'name': 'twitter:creator', 'content': '@GameSpot'}, 'text': ''}, {'tag': 'meta', 'attributes': {'name': 'twitter:label1', 'content': 'Platforms'}, 'text': ''}, {'tag': 'meta', 'attributes': {'name': 'twitter:data1', 'content': 'PC, Xbox 360, PlayStation 3, iOS (iPhone/iPad), Android, BlackBerry'}, 'text': ''}, {'tag': 'meta', 'attributes': {'name': 'twitter:label2', 'content': 'First Release Date'}, 'text': ''}, {'tag': 'meta', 'attributes': {'name': 'twitter:data2', 'content': 'Oct 13, 2008'}, 'text': ''}, {'tag': 'meta', 'attributes': {'property': 'og:image', 'content': 'https://www.gamespot.com/a/uploads/scale_medium/mig/9/3/3/4/2219334-deadspaceclean.jpg'}, 'text': ''}, {'tag': 'meta', 'attributes': {'property': 'og:title', 'content': 'Dead Space (2008)'}, 'text': ''}, {'tag': 'meta', 'attributes': {'property': 'og:description', 'content': \"Dead Space is a survival-horror game in which players take on the role of Engineer Isaac Clarke who is sent to repair the mining ship's communication array which has been mysteriously cut off. Once on the ship, Clarke finds the ship has become a floating bloodbath, making his repair mission become one of survival as he fights not just to save himself, but to return the artifact to the planet at any cost.\"}, 'text': ''}, {'tag': 'meta', 'attributes': {'property': 'og:site_name', 'content': 'GameSpot'}, 'text': ''}, {'tag': 'meta', 'attributes': {'property': 'og:type', 'content': 'product'}, 'text': ''}, {'tag': 'meta', 'attributes': {'property': 'og:url', 'content': 'https://www.gamespot.com/games/dead-space-2008/'}, 'text': ''}, {'tag': 'link', 'attributes': {'rel': 'canonical', 'href': 'https://www.gamespot.com/games/dead-space-2008/'}, 'text': ''}, {'tag': 'meta', 'attributes': {'name': 'modal-cdn-url', 'content': '/js/modals.json'}, 'text': ''}, {'tag': 'meta', 'attributes': {'name': 'js-sort-filter-text', 'content': 'yes'}, 'text': ''}, {'tag': 'meta', 'attributes': {'id': 'js-video-header-bidding-meta', 'content': '1'}, 'text': ''}, {'tag': 'meta', 'attributes': {'id': 'view-guid-meta', 'name': 'view-guid-meta', 'content': 'eec3f0fb-cf29-4a47-b039-601145a2f9de'}, 'text': ''}, {'tag': 'meta', 'attributes': {'class': 'ad-settings', 'content': '', 'id': 'ad-settings', 'name': 'ad-settings', 'data-settings': '{\"service\":\"dart\",\"enable_guilt\":true,\"unit_name\":\"/5441/aw-gamespot/gamespace\",\"target_params\":{\"game\":\"dead-space-2008\",\"rating\":\"ESRB: M\",\"genre\":\"3d,action,shooter,third-person\",\"con\":\"pc,xbox-360,playstation-3,ios-iphoneipad,android,blackberry\",\"franchise\":\"dead-space\",\"ptype\":\"games_overview\",\"rdate\":\"bp52\",\"publisher\":\"electronic-arts,ea-games\",\"score\":90,\"franchiseRoot\":\"dead-space\",\"user\":\"anon\"},\"mapped_units\":{\"skybox-nav\":{\"size\":[[5,5]],\"target\":{\"pos\":\"nav\"}},\"interstitial\":{\"outOfPage\":true},\"leader_plus_top\":{\"size\":[[970,66],[728,90],[970,90],[970,250]],\"target\":{\"pos\":\"top\"}},\"mpu_top\":{\"size\":[[300,250]],\"target\":{\"pos\":\"top\"}},\"mpu_bottom\":{\"size\":[[300,250]],\"target\":{\"pos\":\"bottom\"}},\"leader_bottom\":{\"size\":[[728,90],[970,66]],\"target\":{\"pos\":\"bottom\"}},\"native-mpu\":{\"size\":[[300,250],\"fluid\"],\"target\":{\"pos\":\"native\"}}},\"region\":\"us\"}'}, 'text': ''}, {'tag': 'meta', 'attributes': {'name': 'adtags', 'content': 'game=dead-space-2008&rating=ESRB%3A%20M&genre=3d%2Caction%2Cshooter%2Cthird-person&con=pc%2Cxbox-360%2Cplaystation-3%2Cios-iphoneipad%2Candroid%2Cblackberry&franchise=dead-space&ptype=games_overview&rdate=bp52&publisher=electronic-arts%2Cea-games&score=90&franchiseRoot=dead-space&user=anon&verticalName=gaming'}, 'text': ''}, {'tag': 'meta', 'attributes': {'id': 'js-loading-html', 'name': 'js-loading-html', 'content': '<div class=\"js-loader loader\"><div class=\"loader-animation\"><div class=\"loading\"></div></div></div>'}, 'text': ''}, {'tag': 'link', 'attributes': {'rel': 'shortcut icon', 'href': 'https://www.gamespot.com/a/bundles/gamespotsite/images/favicon.ico'}, 'text': ''}, {'tag': 'link', 'attributes': {'rel': 'apple-touch-icon', 'href': 'https://www.gamespot.com/a/bundles/gamespotsite/images/touch-icon-iphone-precomposed.png'}, 'text': ''}, {'tag': 'link', 'attributes': {'rel': 'apple-touch-icon', 'sizes': '76x76', 'href': 'https://www.gamespot.com/a/bundles/gamespotsite/images/touch-icon-ipad.png'}, 'text': ''}, {'tag': 'link', 'attributes': {'rel': 'apple-touch-icon', 'sizes': '120x120', 'href': 'https://www.gamespot.com/a/bundles/gamespotsite/images/touch-icon-iphone-retina-precomposed.png'}, 'text': ''}, {'tag': 'link', 'attributes': {'rel': 'apple-touch-icon', 'sizes': '152x152', 'href': 'https://www.gamespot.com/a/bundles/gamespotsite/images/touch-icon-ipad-retina-precomposed.png'}, 'text': ''}, {'tag': 'link', 'attributes': {'as': 'font', 'crossorigin': '', 'href': 'https://www.gamespot.com/a/bundles/phoenixsite/fonts/source-sans-pro-v14-latin-ext_latin/source-sans-pro-v14-latin-ext_latin-300.woff2', 'rel': 'preload', 'type': 'font/woff2'}, 'text': ''}, {'tag': 'link', 'attributes': {'as': 'font', 'crossorigin': '', 'href': 'https://www.gamespot.com/a/bundles/phoenixsite/fonts/source-sans-pro-v14-latin-ext_latin/source-sans-pro-v14-latin-ext_latin-regular.woff2', 'rel': 'preload', 'type': 'font/woff2'}, 'text': ''}, {'tag': 'link', 'attributes': {'as': 'font', 'crossorigin': '', 'href': 'https://www.gamespot.com/a/bundles/phoenixsite/fonts/source-sans-pro-v14-latin-ext_latin/source-sans-pro-v14-latin-ext_latin-600.woff2', 'rel': 'preload', 'type': 'font/woff2'}, 'text': ''}, {'tag': 'link', 'attributes': {'as': 'font', 'crossorigin': '', 'href': 'https://www.gamespot.com/a/bundles/phoenixsite/fonts/source-sans-pro-v14-latin-ext_latin/source-sans-pro-v14-latin-ext_latin-700.woff2', 'rel': 'preload', 'type': 'font/woff2'}, 'text': ''}, {'tag': 'link', 'attributes': {'as': 'font', 'crossorigin': '', 'href': 'https://www.gamespot.com/a/bundles/phoenixsite/fonts/source-sans-pro-v14-latin-ext_latin/source-sans-pro-v14-latin-ext_latin-900.woff2', 'rel': 'preload', 'type': 'font/woff2'}, 'text': ''}, {'tag': 'link', 'attributes': {'as': 'font', 'crossorigin': '', 'href': 'https://www.gamespot.com/a/bundles/phoenixsite/fonts/source-sans-pro-v14-latin-ext_latin/source-sans-pro-v14-latin-ext_latin-600italic.woff2', 'rel': 'preload', 'type': 'font/woff2'}, 'text': ''}, {'tag': 'link', 'attributes': {'as': 'font', 'crossorigin': '', 'href': 'https://www.gamespot.com/a/bundles/phoenixsite/fonts/source-sans-pro-v14-latin-ext_latin/source-sans-pro-v14-latin-ext_latin-700italic.woff2', 'rel': 'preload', 'type': 'font/woff2'}, 'text': ''}, {'tag': 'link', 'attributes': {'as': 'font', 'crossorigin': '', 'href': 'https://www.gamespot.com/a/bundles/phoenixsite/fonts/source-sans-pro-v14-latin-ext_latin/source-sans-pro-v14-latin-ext_latin-900italic.woff2', 'rel': 'preload', 'type': 'font/woff2'}, 'text': ''}, {'tag': 'meta', 'attributes': {'id': 'richTextEditorTheme', 'itemprop': 'richTextEditorTheme', 'content': 'white', 'data-themes': '{\"white\":\"https:\\\\/\\\\/www.gamespot.com\\\\/a\\\\/v8352549e178165054d956b9b3971e977\\\\/bundles\\\\/gamespotsite\\\\/css\\\\/wysiwyg_white.css\",\"black\":\"https:\\\\/\\\\/www.gamespot.com\\\\/a\\\\/v8352549e178165054d956b9b3971e977\\\\/bundles\\\\/gamespotsite\\\\/css\\\\/wysiwyg_black.css\"}'}, 'text': ''}, {'tag': 'link', 'attributes': {'id': 'skin-color', 'rel': 'stylesheet', 'href': 'https://www.gamespot.com/a/v8352549e178165054d956b9b3971e977/bundles/gamespotsite/css/gamespot_white.css'}, 'text': ''}, {'tag': 'meta', 'attributes': {'id': 'kCode', 'itemprop': 'kCode', 'name': 'kCode', 'content': '/contra/cheats/'}, 'text': ''}, {'tag': 'link', 'attributes': {'rel': 'canonical', 'href': 'https://www.gamespot.com/games/dead-space-2008/'}, 'text': ''}, {'tag': 'link', 'attributes': {'href': '//script.wikia.nocookie.net/fandom-ae-assets/platforms/v150.111.0/gamespot/styles.css', 'rel': 'stylesheet'}, 'text': ''}, {'tag': 'meta', 'attributes': {'http-equiv': 'origin-trial', 'content': 'AlK2UR5SkAlj8jjdEc9p3F3xuFYlF6LYjAML3EOqw1g26eCwWPjdmecULvBH5MVPoqKYrOfPhYVL71xAXI1IBQoAAAB8eyJvcmlnaW4iOiJodHRwczovL2RvdWJsZWNsaWNrLm5ldDo0NDMiLCJmZWF0dXJlIjoiV2ViVmlld1hSZXF1ZXN0ZWRXaXRoRGVwcmVjYXRpb24iLCJleHBpcnkiOjE3NTgwNjcxOTksImlzU3ViZG9tYWluIjp0cnVlfQ=='}, 'text': ''}, {'tag': 'meta', 'attributes': {'http-equiv': 'origin-trial', 'content': 'Amm8/NmvvQfhwCib6I7ZsmUxiSCfOxWxHayJwyU1r3gRIItzr7bNQid6O8ZYaE1GSQTa69WwhPC9flq/oYkRBwsAAACCeyJvcmlnaW4iOiJodHRwczovL2dvb2dsZXN5bmRpY2F0aW9uLmNvbTo0NDMiLCJmZWF0dXJlIjoiV2ViVmlld1hSZXF1ZXN0ZWRXaXRoRGVwcmVjYXRpb24iLCJleHBpcnkiOjE3NTgwNjcxOTksImlzU3ViZG9tYWluIjp0cnVlfQ=='}, 'text': ''}, {'tag': 'meta', 'attributes': {'http-equiv': 'origin-trial', 'content': 'A9wSqI5i0iwGdf6L1CERNdmsTPgVu44ewj8QxTBYgsv1LCPUVF7YmWOvTappqB1139jAymxUW/RO8zmMqo4zlAAAAACNeyJvcmlnaW4iOiJodHRwczovL2RvdWJsZWNsaWNrLm5ldDo0NDMiLCJmZWF0dXJlIjoiRmxlZGdlQmlkZGluZ0FuZEF1Y3Rpb25TZXJ2ZXIiLCJleHBpcnkiOjE3MzY4MTI4MDAsImlzU3ViZG9tYWluIjp0cnVlLCJpc1RoaXJkUGFydHkiOnRydWV9'}, 'text': ''}, {'tag': 'meta', 'attributes': {'http-equiv': 'origin-trial', 'content': 'A+d7vJfYtay4OUbdtRPZA3y7bKQLsxaMEPmxgfhBGqKXNrdkCQeJlUwqa6EBbSfjwFtJWTrWIioXeMW+y8bWAgQAAACTeyJvcmlnaW4iOiJodHRwczovL2dvb2dsZXN5bmRpY2F0aW9uLmNvbTo0NDMiLCJmZWF0dXJlIjoiRmxlZGdlQmlkZGluZ0FuZEF1Y3Rpb25TZXJ2ZXIiLCJleHBpcnkiOjE3MzY4MTI4MDAsImlzU3ViZG9tYWluIjp0cnVlLCJpc1RoaXJkUGFydHkiOnRydWV9'}, 'text': ''}, {'tag': 'link', 'attributes': {'href': 'https://securepubads.g.doubleclick.net/pagead/managed/dict/m202504240101/gpt', 'rel': 'compression-dictionary'}, 'text': ''}]",
         "False",
         "False",
         null,
         "64.28"
        ],
        [
         "617123",
         "http://en.wikipedia.org/wiki/Dead_Space_(video_game)",
         "https://en.wikipedia.org/wiki/Dead_Space",
         "[{\"url\": \"http://en.wikipedia.org/wiki/Dead_Space_(video_game)\", \"status\": 307, \"location\": \"https://en.wikipedia.org/wiki/Dead_Space_(video_game)\"}]",
         "1",
         "[{'tag': 'meta', 'attributes': {'charset': 'UTF-8'}, 'text': ''}, {'tag': 'title', 'attributes': {}, 'text': 'Dead Space - Wikipedia'}, {'tag': 'link', 'attributes': {'rel': 'stylesheet', 'href': '/w/load.php?lang=en&modules=ext.cite.styles%7Cext.uls.interlanguage%7Cext.visualEditor.desktopArticleTarget.noscript%7Cext.wikimediamessages.styles%7Cjquery.makeCollapsible.styles%7Cskins.vector.icons%2Cstyles%7Cskins.vector.search.codex.styles%7Cwikibase.client.init&only=styles&skin=vector-2022'}, 'text': ''}, {'tag': 'meta', 'attributes': {'name': 'ResourceLoaderDynamicStyles', 'content': ''}, 'text': ''}, {'tag': 'link', 'attributes': {'rel': 'stylesheet', 'href': '/w/load.php?lang=en&modules=site.styles&only=styles&skin=vector-2022'}, 'text': ''}, {'tag': 'meta', 'attributes': {'name': 'generator', 'content': 'MediaWiki 1.44.0-wmf.25'}, 'text': ''}, {'tag': 'meta', 'attributes': {'name': 'referrer', 'content': 'origin'}, 'text': ''}, {'tag': 'meta', 'attributes': {'name': 'referrer', 'content': 'origin-when-cross-origin'}, 'text': ''}, {'tag': 'meta', 'attributes': {'name': 'robots', 'content': 'max-image-preview:standard'}, 'text': ''}, {'tag': 'meta', 'attributes': {'name': 'format-detection', 'content': 'telephone=no'}, 'text': ''}, {'tag': 'meta', 'attributes': {'property': 'og:image', 'content': 'https://upload.wikimedia.org/wikipedia/commons/thumb/8/8a/Dead_Space_logo_%282023%29.svg/1200px-Dead_Space_logo_%282023%29.svg.png'}, 'text': ''}, {'tag': 'meta', 'attributes': {'property': 'og:image:width', 'content': '1200'}, 'text': ''}, {'tag': 'meta', 'attributes': {'property': 'og:image:height', 'content': '424'}, 'text': ''}, {'tag': 'meta', 'attributes': {'property': 'og:image', 'content': 'https://upload.wikimedia.org/wikipedia/commons/thumb/8/8a/Dead_Space_logo_%282023%29.svg/800px-Dead_Space_logo_%282023%29.svg.png'}, 'text': ''}, {'tag': 'meta', 'attributes': {'property': 'og:image:width', 'content': '800'}, 'text': ''}, {'tag': 'meta', 'attributes': {'property': 'og:image:height', 'content': '282'}, 'text': ''}, {'tag': 'meta', 'attributes': {'property': 'og:image', 'content': 'https://upload.wikimedia.org/wikipedia/commons/thumb/8/8a/Dead_Space_logo_%282023%29.svg/640px-Dead_Space_logo_%282023%29.svg.png'}, 'text': ''}, {'tag': 'meta', 'attributes': {'property': 'og:image:width', 'content': '640'}, 'text': ''}, {'tag': 'meta', 'attributes': {'property': 'og:image:height', 'content': '226'}, 'text': ''}, {'tag': 'meta', 'attributes': {'name': 'viewport', 'content': 'width=1120'}, 'text': ''}, {'tag': 'meta', 'attributes': {'property': 'og:title', 'content': 'Dead Space - Wikipedia'}, 'text': ''}, {'tag': 'meta', 'attributes': {'property': 'og:type', 'content': 'website'}, 'text': ''}, {'tag': 'link', 'attributes': {'rel': 'preconnect', 'href': '//upload.wikimedia.org'}, 'text': ''}, {'tag': 'link', 'attributes': {'rel': 'alternate', 'media': 'only screen and (max-width: 640px)', 'href': '//en.m.wikipedia.org/wiki/Dead_Space'}, 'text': ''}, {'tag': 'link', 'attributes': {'rel': 'alternate', 'type': 'application/x-wiki', 'title': 'Edit this page', 'href': '/w/index.php?title=Dead_Space&action=edit'}, 'text': ''}, {'tag': 'link', 'attributes': {'rel': 'apple-touch-icon', 'href': '/static/apple-touch/wikipedia.png'}, 'text': ''}, {'tag': 'link', 'attributes': {'rel': 'icon', 'href': '/static/favicon/wikipedia.ico'}, 'text': ''}, {'tag': 'link', 'attributes': {'rel': 'search', 'type': 'application/opensearchdescription+xml', 'href': '/w/rest.php/v1/search', 'title': 'Wikipedia (en)'}, 'text': ''}, {'tag': 'link', 'attributes': {'rel': 'EditURI', 'type': 'application/rsd+xml', 'href': '//en.wikipedia.org/w/api.php?action=rsd'}, 'text': ''}, {'tag': 'link', 'attributes': {'rel': 'canonical', 'href': 'https://en.wikipedia.org/wiki/Dead_Space'}, 'text': ''}, {'tag': 'link', 'attributes': {'rel': 'license', 'href': 'https://creativecommons.org/licenses/by-sa/4.0/deed.en'}, 'text': ''}, {'tag': 'link', 'attributes': {'rel': 'alternate', 'type': 'application/atom+xml', 'title': 'Wikipedia Atom feed', 'href': '/w/index.php?title=Special:RecentChanges&feed=atom'}, 'text': ''}, {'tag': 'link', 'attributes': {'rel': 'dns-prefetch', 'href': '//meta.wikimedia.org'}, 'text': ''}, {'tag': 'link', 'attributes': {'rel': 'dns-prefetch', 'href': 'auth.wikimedia.org'}, 'text': ''}]",
         "False",
         "False",
         null,
         "16.0"
        ],
        [
         "617124",
         "http://www.angelfire.com/goth/devilmaycrytonite/",
         "https://www.angelfire.com/goth/devilmaycrytonite/",
         "[{\"url\": \"http://www.angelfire.com/goth/devilmaycrytonite/\", \"status\": 302, \"location\": \"https://www.angelfire.com/goth/devilmaycrytonite/\"}, {\"url\": \"https://match.adsrvr.org/track/cmf/generic?ttd_pid=whcf2g2&ttd_tpi=1&gdpr=0\", \"status\": 302, \"location\": \"https://match.adsrvr.org/track/cmb/generic?ttd_pid=whcf2g2&ttd_tpi=1&gdpr=0\"}, {\"url\": \"https://dpm.demdex.net/ibs:dpid=53196&dpuuid=Q7991330221848934550J\", \"status\": 302, \"location\": \"https://dpm.demdex.net/demconf.jpg?et:ibs%7cdata:dpid=53196&dpuuid=Q7991330221848934550J\"}, {\"url\": \"https://match.adsrvr.org/track/cmb/generic?ttd_pid=whcf2g2&ttd_tpi=1&gdpr=0\", \"status\": 302, \"location\": \"https://px.owneriq.net/eucm/p/ttd?oi=1&tid=cc4db094-43b4-48b6-85cf-c48ed39a191c\"}, {\"url\": \"https://px.owneriq.net/eucm/p/ttd?oi=1&tid=cc4db094-43b4-48b6-85cf-c48ed39a191c\", \"status\": 302, \"location\": \"https://px.owneriq.net/fr/epx.gif\"}, {\"url\": \"https://ib.adnxs.com/getuid?https%3A%2F%2Fpx.owneriq.net%2Feucm%2Fp%2Fapndmp%3Foi%3D1%26tid%3D%24UID%26redir%3Dhttps%3A%2F%2Fib.adnxs.com%2Fsetuid%3Fentity%3D13%26code%3D(OIQ_UUID)\", \"status\": 307, \"location\": \"https://ib.adnxs.com/bounce?%2Fgetuid%3Fhttps%253A%252F%252Fpx.owneriq.net%252Feucm%252Fp%252Fapndmp%253Foi%253D1%2526tid%253D%2524UID%2526redir%253Dhttps%253A%252F%252Fib.adnxs.com%252Fsetuid%253Fentity%253D13%2526code%253D%28OIQ_UUID%29\"}, {\"url\": \"https://ib.adnxs.com/bounce?%2Fgetuid%3Fhttps%253A%252F%252Fpx.owneriq.net%252Feucm%252Fp%252Fapndmp%253Foi%253D1%2526tid%253D%2524UID%2526redir%253Dhttps%253A%252F%252Fib.adnxs.com%252Fsetuid%253Fentity%253D13%2526code%253D%28OIQ_UUID%29\", \"status\": 302, \"location\": \"https://px.owneriq.net/eucm/p/apndmp?oi=1&tid=5211597259424408468&redir=https://ib.adnxs.com/setuid?entity=13&code=(OIQ_UUID)\"}, {\"url\": \"https://px.owneriq.net/eucm/p/apndmp?oi=1&tid=5211597259424408468&redir=https://ib.adnxs.com/setuid?entity=13&code=(OIQ_UUID)\", \"status\": 302, \"location\": \"https://ib.adnxs.com/setuid?entity=13\"}]",
         "8",
         "[{'tag': 'title', 'attributes': {}, 'text': 'Welcome to Devil May Cry'}, {'tag': 'meta', 'attributes': {'http-equiv': 'Content-Type', 'content': 'text/html; charset=iso-8859-1'}, 'text': ''}, {'tag': 'meta', 'attributes': {'http-equiv': 'origin-trial', 'content': 'AlK2UR5SkAlj8jjdEc9p3F3xuFYlF6LYjAML3EOqw1g26eCwWPjdmecULvBH5MVPoqKYrOfPhYVL71xAXI1IBQoAAAB8eyJvcmlnaW4iOiJodHRwczovL2RvdWJsZWNsaWNrLm5ldDo0NDMiLCJmZWF0dXJlIjoiV2ViVmlld1hSZXF1ZXN0ZWRXaXRoRGVwcmVjYXRpb24iLCJleHBpcnkiOjE3NTgwNjcxOTksImlzU3ViZG9tYWluIjp0cnVlfQ=='}, 'text': ''}, {'tag': 'meta', 'attributes': {'http-equiv': 'origin-trial', 'content': 'Amm8/NmvvQfhwCib6I7ZsmUxiSCfOxWxHayJwyU1r3gRIItzr7bNQid6O8ZYaE1GSQTa69WwhPC9flq/oYkRBwsAAACCeyJvcmlnaW4iOiJodHRwczovL2dvb2dsZXN5bmRpY2F0aW9uLmNvbTo0NDMiLCJmZWF0dXJlIjoiV2ViVmlld1hSZXF1ZXN0ZWRXaXRoRGVwcmVjYXRpb24iLCJleHBpcnkiOjE3NTgwNjcxOTksImlzU3ViZG9tYWluIjp0cnVlfQ=='}, 'text': ''}, {'tag': 'meta', 'attributes': {'http-equiv': 'origin-trial', 'content': 'A9wSqI5i0iwGdf6L1CERNdmsTPgVu44ewj8QxTBYgsv1LCPUVF7YmWOvTappqB1139jAymxUW/RO8zmMqo4zlAAAAACNeyJvcmlnaW4iOiJodHRwczovL2RvdWJsZWNsaWNrLm5ldDo0NDMiLCJmZWF0dXJlIjoiRmxlZGdlQmlkZGluZ0FuZEF1Y3Rpb25TZXJ2ZXIiLCJleHBpcnkiOjE3MzY4MTI4MDAsImlzU3ViZG9tYWluIjp0cnVlLCJpc1RoaXJkUGFydHkiOnRydWV9'}, 'text': ''}, {'tag': 'meta', 'attributes': {'http-equiv': 'origin-trial', 'content': 'A+d7vJfYtay4OUbdtRPZA3y7bKQLsxaMEPmxgfhBGqKXNrdkCQeJlUwqa6EBbSfjwFtJWTrWIioXeMW+y8bWAgQAAACTeyJvcmlnaW4iOiJodHRwczovL2dvb2dsZXN5bmRpY2F0aW9uLmNvbTo0NDMiLCJmZWF0dXJlIjoiRmxlZGdlQmlkZGluZ0FuZEF1Y3Rpb25TZXJ2ZXIiLCJleHBpcnkiOjE3MzY4MTI4MDAsImlzU3ViZG9tYWluIjp0cnVlLCJpc1RoaXJkUGFydHkiOnRydWV9'}, 'text': ''}, {'tag': 'link', 'attributes': {'href': 'https://securepubads.g.doubleclick.net/pagead/managed/dict/m202504240101/gpt', 'rel': 'compression-dictionary'}, 'text': ''}, {'tag': 'link', 'attributes': {'rel': 'dns-prefetch', 'href': 'https://creatives.purpleads.io'}, 'text': ''}]",
         "False",
         "False",
         null,
         "25.02"
        ]
       ],
       "shape": {
        "columns": 9,
        "rows": 5
       }
      },
      "text/html": [
       "<div>\n",
       "<style scoped>\n",
       "    .dataframe tbody tr th:only-of-type {\n",
       "        vertical-align: middle;\n",
       "    }\n",
       "\n",
       "    .dataframe tbody tr th {\n",
       "        vertical-align: top;\n",
       "    }\n",
       "\n",
       "    .dataframe thead th {\n",
       "        text-align: right;\n",
       "    }\n",
       "</style>\n",
       "<table border=\"1\" class=\"dataframe\">\n",
       "  <thead>\n",
       "    <tr style=\"text-align: right;\">\n",
       "      <th></th>\n",
       "      <th>original_url</th>\n",
       "      <th>final_url</th>\n",
       "      <th>redirect_chain</th>\n",
       "      <th>redirect_count</th>\n",
       "      <th>head_elements</th>\n",
       "      <th>timeout</th>\n",
       "      <th>has_meta_refresh</th>\n",
       "      <th>meta_refresh_url</th>\n",
       "      <th>duration_sec</th>\n",
       "    </tr>\n",
       "  </thead>\n",
       "  <tbody>\n",
       "    <tr>\n",
       "      <th>617120</th>\n",
       "      <td>http://xbox360.ign.com/objects/850/850402.html</td>\n",
       "      <td>https://www.ign.com/games/dead-space</td>\n",
       "      <td>[{\"url\": \"http://xbox360.ign.com/objects/850/8...</td>\n",
       "      <td>4</td>\n",
       "      <td>[{'tag': 'link', 'attributes': {'tag': 'link',...</td>\n",
       "      <td>False</td>\n",
       "      <td>False</td>\n",
       "      <td>NaN</td>\n",
       "      <td>65.85</td>\n",
       "    </tr>\n",
       "    <tr>\n",
       "      <th>617121</th>\n",
       "      <td>http://games.teamxbox.com/xbox-360/1860/Dead-S...</td>\n",
       "      <td>http://games.teamxbox.com/xbox-360/1860/Dead-S...</td>\n",
       "      <td>NaN</td>\n",
       "      <td>0</td>\n",
       "      <td>[{'tag': 'title', 'attributes': {}, 'text': '4...</td>\n",
       "      <td>False</td>\n",
       "      <td>False</td>\n",
       "      <td>NaN</td>\n",
       "      <td>2.74</td>\n",
       "    </tr>\n",
       "    <tr>\n",
       "      <th>617122</th>\n",
       "      <td>http://www.gamespot.com/xbox360/action/deadspace/</td>\n",
       "      <td>https://www.gamespot.com/games/dead-space-2008/</td>\n",
       "      <td>[{\"url\": \"http://www.gamespot.com/xbox360/acti...</td>\n",
       "      <td>3</td>\n",
       "      <td>[{'tag': 'meta', 'attributes': {'http-equiv': ...</td>\n",
       "      <td>False</td>\n",
       "      <td>False</td>\n",
       "      <td>NaN</td>\n",
       "      <td>64.28</td>\n",
       "    </tr>\n",
       "    <tr>\n",
       "      <th>617123</th>\n",
       "      <td>http://en.wikipedia.org/wiki/Dead_Space_(video...</td>\n",
       "      <td>https://en.wikipedia.org/wiki/Dead_Space</td>\n",
       "      <td>[{\"url\": \"http://en.wikipedia.org/wiki/Dead_Sp...</td>\n",
       "      <td>1</td>\n",
       "      <td>[{'tag': 'meta', 'attributes': {'charset': 'UT...</td>\n",
       "      <td>False</td>\n",
       "      <td>False</td>\n",
       "      <td>NaN</td>\n",
       "      <td>16.00</td>\n",
       "    </tr>\n",
       "    <tr>\n",
       "      <th>617124</th>\n",
       "      <td>http://www.angelfire.com/goth/devilmaycrytonite/</td>\n",
       "      <td>https://www.angelfire.com/goth/devilmaycrytonite/</td>\n",
       "      <td>[{\"url\": \"http://www.angelfire.com/goth/devilm...</td>\n",
       "      <td>8</td>\n",
       "      <td>[{'tag': 'title', 'attributes': {}, 'text': 'W...</td>\n",
       "      <td>False</td>\n",
       "      <td>False</td>\n",
       "      <td>NaN</td>\n",
       "      <td>25.02</td>\n",
       "    </tr>\n",
       "  </tbody>\n",
       "</table>\n",
       "</div>"
      ],
      "text/plain": [
       "                                             original_url  \\\n",
       "617120     http://xbox360.ign.com/objects/850/850402.html   \n",
       "617121  http://games.teamxbox.com/xbox-360/1860/Dead-S...   \n",
       "617122  http://www.gamespot.com/xbox360/action/deadspace/   \n",
       "617123  http://en.wikipedia.org/wiki/Dead_Space_(video...   \n",
       "617124   http://www.angelfire.com/goth/devilmaycrytonite/   \n",
       "\n",
       "                                                final_url  \\\n",
       "617120               https://www.ign.com/games/dead-space   \n",
       "617121  http://games.teamxbox.com/xbox-360/1860/Dead-S...   \n",
       "617122    https://www.gamespot.com/games/dead-space-2008/   \n",
       "617123           https://en.wikipedia.org/wiki/Dead_Space   \n",
       "617124  https://www.angelfire.com/goth/devilmaycrytonite/   \n",
       "\n",
       "                                           redirect_chain  redirect_count  \\\n",
       "617120  [{\"url\": \"http://xbox360.ign.com/objects/850/8...               4   \n",
       "617121                                                NaN               0   \n",
       "617122  [{\"url\": \"http://www.gamespot.com/xbox360/acti...               3   \n",
       "617123  [{\"url\": \"http://en.wikipedia.org/wiki/Dead_Sp...               1   \n",
       "617124  [{\"url\": \"http://www.angelfire.com/goth/devilm...               8   \n",
       "\n",
       "                                            head_elements  timeout  \\\n",
       "617120  [{'tag': 'link', 'attributes': {'tag': 'link',...    False   \n",
       "617121  [{'tag': 'title', 'attributes': {}, 'text': '4...    False   \n",
       "617122  [{'tag': 'meta', 'attributes': {'http-equiv': ...    False   \n",
       "617123  [{'tag': 'meta', 'attributes': {'charset': 'UT...    False   \n",
       "617124  [{'tag': 'title', 'attributes': {}, 'text': 'W...    False   \n",
       "\n",
       "        has_meta_refresh meta_refresh_url  duration_sec  \n",
       "617120             False              NaN         65.85  \n",
       "617121             False              NaN          2.74  \n",
       "617122             False              NaN         64.28  \n",
       "617123             False              NaN         16.00  \n",
       "617124             False              NaN         25.02  "
      ]
     },
     "execution_count": 7,
     "metadata": {},
     "output_type": "execute_result"
    }
   ],
   "source": [
    "df.tail()"
   ]
  }
 ],
 "metadata": {
  "kernelspec": {
   "display_name": ".venv",
   "language": "python",
   "name": "python3"
  },
  "language_info": {
   "codemirror_mode": {
    "name": "ipython",
    "version": 3
   },
   "file_extension": ".py",
   "mimetype": "text/x-python",
   "name": "python",
   "nbconvert_exporter": "python",
   "pygments_lexer": "ipython3",
   "version": "3.12.6"
  }
 },
 "nbformat": 4,
 "nbformat_minor": 5
}
